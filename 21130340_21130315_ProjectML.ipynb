{
  "cells": [
    {
      "cell_type": "markdown",
      "metadata": {
        "id": "0u1ezfX3zhEe"
      },
      "source": [
        "# 1. Download data and libraries"
      ]
    },
    {
      "cell_type": "code",
      "execution_count": 1,
      "metadata": {
        "id": "YVage4fCRGtX",
        "colab": {
          "base_uri": "https://localhost:8080/"
        },
        "outputId": "bf0fb0a0-df96-40dd-e9ab-f00d58d90ba7"
      },
      "outputs": [
        {
          "output_type": "stream",
          "name": "stdout",
          "text": [
            "\u001b[2K     \u001b[90m━━━━━━━━━━━━━━━━━━━━━━━━━━━━━━━━━━━━━━━━\u001b[0m \u001b[32m20.9/20.9 MB\u001b[0m \u001b[31m20.9 MB/s\u001b[0m eta \u001b[36m0:00:00\u001b[0m\n",
            "\u001b[2K     \u001b[90m━━━━━━━━━━━━━━━━━━━━━━━━━━━━━━━━━━━━━━━━\u001b[0m \u001b[32m1.1/1.1 MB\u001b[0m \u001b[31m27.3 MB/s\u001b[0m eta \u001b[36m0:00:00\u001b[0m\n",
            "\u001b[2K     \u001b[90m━━━━━━━━━━━━━━━━━━━━━━━━━━━━━━━━━━━━━━━━\u001b[0m \u001b[32m657.8/657.8 kB\u001b[0m \u001b[31m24.6 MB/s\u001b[0m eta \u001b[36m0:00:00\u001b[0m\n",
            "\u001b[?25h"
          ]
        }
      ],
      "source": [
        "!pip install -Uqq underthesea"
      ]
    },
    {
      "cell_type": "code",
      "execution_count": 2,
      "metadata": {
        "id": "82m-ZxpdkBGK",
        "colab": {
          "base_uri": "https://localhost:8080/"
        },
        "outputId": "f3b7ec08-24b8-4e2f-a0df-8655dd63d824"
      },
      "outputs": [
        {
          "output_type": "stream",
          "name": "stdout",
          "text": [
            "--2024-07-22 08:43:08--  https://docs.google.com/uc?export=download&id=1ddtXoXtQc5hRzj-J6_y0rtoSTfbwrLOP&confirm=t\n",
            "Resolving docs.google.com (docs.google.com)... 74.125.137.139, 74.125.137.101, 74.125.137.100, ...\n",
            "Connecting to docs.google.com (docs.google.com)|74.125.137.139|:443... connected.\n",
            "HTTP request sent, awaiting response... 303 See Other\n",
            "Location: https://drive.usercontent.google.com/download?id=1ddtXoXtQc5hRzj-J6_y0rtoSTfbwrLOP&export=download [following]\n",
            "--2024-07-22 08:43:08--  https://drive.usercontent.google.com/download?id=1ddtXoXtQc5hRzj-J6_y0rtoSTfbwrLOP&export=download\n",
            "Resolving drive.usercontent.google.com (drive.usercontent.google.com)... 142.251.2.132, 2607:f8b0:4023:c0d::84\n",
            "Connecting to drive.usercontent.google.com (drive.usercontent.google.com)|142.251.2.132|:443... connected.\n",
            "HTTP request sent, awaiting response... 200 OK\n",
            "Length: 2423 (2.4K) [text/html]\n",
            "Saving to: ‘VI_IMDB.csv’\n",
            "\n",
            "VI_IMDB.csv         100%[===================>]   2.37K  --.-KB/s    in 0s      \n",
            "\n",
            "2024-07-22 08:43:08 (24.5 MB/s) - ‘VI_IMDB.csv’ saved [2423/2423]\n",
            "\n",
            "--2024-07-22 08:43:08--  https://docs.google.com/uc?export=download&id=1qsNJ6xmXqLg_xQ51-OONNHjYaERsh5RE&confirm=t\n",
            "Resolving docs.google.com (docs.google.com)... 74.125.137.139, 74.125.137.101, 74.125.137.100, ...\n",
            "Connecting to docs.google.com (docs.google.com)|74.125.137.139|:443... connected.\n",
            "HTTP request sent, awaiting response... 303 See Other\n",
            "Location: https://drive.usercontent.google.com/download?id=1qsNJ6xmXqLg_xQ51-OONNHjYaERsh5RE&export=download [following]\n",
            "--2024-07-22 08:43:08--  https://drive.usercontent.google.com/download?id=1qsNJ6xmXqLg_xQ51-OONNHjYaERsh5RE&export=download\n",
            "Resolving drive.usercontent.google.com (drive.usercontent.google.com)... 142.251.2.132, 2607:f8b0:4023:c0d::84\n",
            "Connecting to drive.usercontent.google.com (drive.usercontent.google.com)|142.251.2.132|:443... connected.\n",
            "HTTP request sent, awaiting response... 200 OK\n",
            "Length: 2427 (2.4K) [text/html]\n",
            "Saving to: ‘vi_word2vec.txt’\n",
            "\n",
            "vi_word2vec.txt     100%[===================>]   2.37K  --.-KB/s    in 0s      \n",
            "\n",
            "2024-07-22 08:43:09 (35.6 MB/s) - ‘vi_word2vec.txt’ saved [2427/2427]\n",
            "\n"
          ]
        }
      ],
      "source": [
        "!wget \"https://docs.google.com/uc?export=download&id=1ddtXoXtQc5hRzj-J6_y0rtoSTfbwrLOP&confirm=t\" -O VI_IMDB.csv\n",
        "!wget \"https://docs.google.com/uc?export=download&id=1qsNJ6xmXqLg_xQ51-OONNHjYaERsh5RE&confirm=t\" -O vi_word2vec.txt"
      ]
    },
    {
      "cell_type": "code",
      "source": [
        "import gdown\n",
        "\n",
        "# URL Google Drive của tệp CSV và tệp Word2Vec\n",
        "url_csv = \"https://drive.google.com/uc?id=1ddtXoXtQc5hRzj-J6_y0rtoSTfbwrLOP\"\n",
        "\n",
        "# Tên tệp đầu ra\n",
        "output_csv = \"VI_IMDB.csv\"\n",
        "\n",
        "# Tải tệp CSV và Word2Vec\n",
        "gdown.download(url_csv, output_csv, quiet=False, fuzzy=True)\n"
      ],
      "metadata": {
        "id": "ITeQGdxsi9cR",
        "colab": {
          "base_uri": "https://localhost:8080/",
          "height": 127
        },
        "outputId": "594cc465-c593-4cfe-f560-e771ca202c6f"
      },
      "execution_count": 3,
      "outputs": [
        {
          "output_type": "stream",
          "name": "stderr",
          "text": [
            "Downloading...\n",
            "From (original): https://drive.google.com/uc?id=1ddtXoXtQc5hRzj-J6_y0rtoSTfbwrLOP\n",
            "From (redirected): https://drive.google.com/uc?id=1ddtXoXtQc5hRzj-J6_y0rtoSTfbwrLOP&confirm=t&uuid=186b2a81-0716-4baa-9daa-6e9cc63d8e7b\n",
            "To: /content/VI_IMDB.csv\n",
            "100%|██████████| 159M/159M [00:02<00:00, 65.6MB/s]\n"
          ]
        },
        {
          "output_type": "execute_result",
          "data": {
            "text/plain": [
              "'VI_IMDB.csv'"
            ],
            "application/vnd.google.colaboratory.intrinsic+json": {
              "type": "string"
            }
          },
          "metadata": {},
          "execution_count": 3
        }
      ]
    },
    {
      "cell_type": "code",
      "execution_count": 4,
      "metadata": {
        "id": "9oM4ubwCyhB3",
        "colab": {
          "base_uri": "https://localhost:8080/"
        },
        "outputId": "5512cc3f-398e-45a0-fdfc-98fe98fe6948"
      },
      "outputs": [
        {
          "output_type": "stream",
          "name": "stdout",
          "text": [
            "--2024-07-22 08:43:15--  https://public.vinai.io/word2vec_vi_words_100dims.zip\n",
            "Resolving public.vinai.io (public.vinai.io)... 13.225.142.7, 13.225.142.85, 13.225.142.12, ...\n",
            "Connecting to public.vinai.io (public.vinai.io)|13.225.142.7|:443... connected.\n",
            "HTTP request sent, awaiting response... 200 OK\n",
            "Length: 785783878 (749M) [application/zip]\n",
            "Saving to: ‘word2vec_vi_words_100dims.zip’\n",
            "\n",
            "word2vec_vi_words_1 100%[===================>] 749.38M  97.9MB/s    in 7.1s    \n",
            "\n",
            "2024-07-22 08:43:23 (106 MB/s) - ‘word2vec_vi_words_100dims.zip’ saved [785783878/785783878]\n",
            "\n",
            "Archive:  word2vec_vi_words_100dims.zip\n",
            "  inflating: word2vec_vi_words_100dims.txt  \n",
            "Create word embedding file...\n"
          ]
        },
        {
          "output_type": "stream",
          "name": "stderr",
          "text": [
            "100%|██████████| 1587507/1587507 [00:23<00:00, 66433.76it/s] \n"
          ]
        }
      ],
      "source": [
        "# Download and create new word2vec file without first information line\n",
        "!wget https://public.vinai.io/word2vec_vi_words_100dims.zip\n",
        "!unzip word2vec_vi_words_100dims.zip\n",
        "\n",
        "from tqdm import tqdm\n",
        "\n",
        "with open(\"word2vec_vi_words_100dims.txt\", \"r\") as f:\n",
        "    first_line = f.readline()\n",
        "    num_words, dim = [int(word) for word in first_line.split()]\n",
        "    print(\"Create word embedding file...\")\n",
        "    with open(\"vi_word2vec.txt\", \"w\") as f_out:\n",
        "        for i in tqdm(range(num_words)):\n",
        "            f_out.write(f.readline())"
      ]
    },
    {
      "cell_type": "markdown",
      "metadata": {
        "id": "snMOKwOyIdKW"
      },
      "source": [
        "# 2. Load pretrained Vietnamese word2vec"
      ]
    },
    {
      "cell_type": "code",
      "execution_count": 5,
      "metadata": {
        "id": "2eTR2kPh4RJ4",
        "colab": {
          "base_uri": "https://localhost:8080/"
        },
        "outputId": "82a44da9-efb8-48d4-d1df-93e8181b5a62"
      },
      "outputs": [
        {
          "output_type": "stream",
          "name": "stderr",
          "text": [
            "/usr/local/lib/python3.10/dist-packages/torchtext/vocab/__init__.py:4: UserWarning: \n",
            "/!\\ IMPORTANT WARNING ABOUT TORCHTEXT STATUS /!\\ \n",
            "Torchtext is deprecated and the last released version will be 0.18 (this one). You can silence this warning by calling the following at the beginnign of your scripts: `import torchtext; torchtext.disable_torchtext_deprecation_warning()`\n",
            "  warnings.warn(torchtext._TORCHTEXT_DEPRECATION_MSG)\n",
            "/usr/local/lib/python3.10/dist-packages/torchtext/utils.py:4: UserWarning: \n",
            "/!\\ IMPORTANT WARNING ABOUT TORCHTEXT STATUS /!\\ \n",
            "Torchtext is deprecated and the last released version will be 0.18 (this one). You can silence this warning by calling the following at the beginnign of your scripts: `import torchtext; torchtext.disable_torchtext_deprecation_warning()`\n",
            "  warnings.warn(torchtext._TORCHTEXT_DEPRECATION_MSG)\n",
            "100%|█████████▉| 1587506/1587507 [01:53<00:00, 13974.98it/s]\n"
          ]
        },
        {
          "output_type": "execute_result",
          "data": {
            "text/plain": [
              "torch.Size([1587507, 100])"
            ]
          },
          "metadata": {},
          "execution_count": 5
        }
      ],
      "source": [
        "import torch\n",
        "import torchtext.vocab as vocab\n",
        "\n",
        "word_embedding = vocab.Vectors(name = \"vi_word2vec.txt\",\n",
        "                               unk_init = torch.Tensor.normal_)\n",
        "\n",
        "word_embedding.vectors.shape"
      ]
    },
    {
      "cell_type": "code",
      "execution_count": 6,
      "metadata": {
        "id": "8vVipzI7jKlR",
        "colab": {
          "base_uri": "https://localhost:8080/"
        },
        "outputId": "5c9eb266-e348-4824-a26b-ae95e4d4b905"
      },
      "outputs": [
        {
          "output_type": "execute_result",
          "data": {
            "text/plain": [
              "[('Việt_Nam', 0.0),\n",
              " ('VN', 0.6608753204345703),\n",
              " ('Trung_Quốc', 0.6805075407028198),\n",
              " ('nước', 0.7456551790237427),\n",
              " ('TQ', 0.7542526721954346),\n",
              " ('của', 0.7784993648529053),\n",
              " ('biển', 0.7814522385597229),\n",
              " ('vùng_biển', 0.7835540175437927),\n",
              " ('Singapore', 0.7879586219787598),\n",
              " ('và', 0.7881312966346741)]"
            ]
          },
          "metadata": {},
          "execution_count": 6
        }
      ],
      "source": [
        "def get_vector(embeddings, word):\n",
        "    \"\"\" Get embedding vector of the word\n",
        "    @param embeddings (torchtext.vocab.vectors.Vectors)\n",
        "    @param word (str)\n",
        "    @return vector (torch.Tensor)\n",
        "    \"\"\"\n",
        "    assert word in embeddings.stoi, f'*{word}* is not in the vocab!'\n",
        "    return embeddings.vectors[embeddings.stoi[word]]\n",
        "\n",
        "def closest_words(embeddings, vector, n=10):\n",
        "    \"\"\" Return n words closest in meaning to the word\n",
        "    @param embeddings (torchtext.vocab.vectors.Vectors)\n",
        "    @param vector (torch.Tensor)\n",
        "    @param n (int)\n",
        "    @return words (list(tuple(str, float)))\n",
        "    \"\"\"\n",
        "    distances = [(word, torch.dist(vector, get_vector(embeddings, word)).item())\n",
        "                 for word in embeddings.itos]\n",
        "\n",
        "    return sorted(distances, key = lambda w: w[1])[:n]\n",
        "\n",
        "\n",
        "word_vector = get_vector(word_embedding, \"Việt_Nam\")\n",
        "\n",
        "closest_words(word_embedding, word_vector)"
      ]
    },
    {
      "cell_type": "markdown",
      "metadata": {
        "id": "_Bj5im3czmtH"
      },
      "source": [
        "# 3. Vocabulary.py"
      ]
    },
    {
      "cell_type": "code",
      "execution_count": 7,
      "metadata": {
        "id": "JDWkevH2VdBn"
      },
      "outputs": [],
      "source": [
        "from itertools import chain\n",
        "from collections import Counter\n",
        "\n",
        "import torch\n",
        "from tqdm import tqdm\n",
        "from underthesea import word_tokenize\n",
        "\n",
        "\n",
        "class Vocabulary:\n",
        "    \"\"\" The Vocabulary class is used to record words, which are used to convert\n",
        "        text to numbers and vice versa.\n",
        "    \"\"\"\n",
        "\n",
        "    def __init__(self):\n",
        "        self.word2id = dict()\n",
        "        self.word2id['<pad>'] = 0   # Pad Token\n",
        "        self.word2id['<unk>'] = 1   # Unknown Token\n",
        "        self.unk_id = self.word2id['<unk>']\n",
        "        self.id2word = {v: k for k, v in self.word2id.items()}\n",
        "\n",
        "    def __getitem__(self, word):\n",
        "        return self.word2id.get(word, self.unk_id)\n",
        "\n",
        "    def __contains__(self, word):\n",
        "        return word in self.word2id\n",
        "\n",
        "    def __len__(self):\n",
        "        return len(self.word2id)\n",
        "\n",
        "    def id2word(self, word_index):\n",
        "        \"\"\"\n",
        "        @param word_index (int)\n",
        "        @return word (str)\n",
        "        \"\"\"\n",
        "        return self.id2word[word_index]\n",
        "\n",
        "    def add(self, word):\n",
        "        \"\"\" Add word to vocabulary\n",
        "        @param word (str)\n",
        "        @return index (str): index of the word just added\n",
        "        \"\"\"\n",
        "        if word not in self:\n",
        "            word_index = self.word2id[word] = len(self.word2id)\n",
        "            self.id2word[word_index] = word\n",
        "            return word_index\n",
        "        else:\n",
        "            return self[word]\n",
        "\n",
        "    @staticmethod\n",
        "    def tokenize_corpus(corpus):\n",
        "        \"\"\"Split the documents of the corpus into words\n",
        "        @param corpus (list(str)): list of documents\n",
        "        @return tokenized_corpus (list(list(str))): list of words\n",
        "        \"\"\"\n",
        "        print(\"Tokenize the corpus...\")\n",
        "        tokenized_corpus = list()\n",
        "        for document in tqdm(corpus):\n",
        "            tokenized_document = [word.replace(\" \", \"_\") for word in word_tokenize(document)]\n",
        "            tokenized_corpus.append(tokenized_document)\n",
        "\n",
        "        return tokenized_corpus\n",
        "\n",
        "    def corpus_to_tensor(self, corpus, is_tokenized=False):\n",
        "        \"\"\" Convert corpus to a list of indices tensor\n",
        "        @param corpus (list(str) if is_tokenized==False else list(list(str)))\n",
        "        @param is_tokenized (bool)\n",
        "        @return indicies_corpus (list(tensor))\n",
        "        \"\"\"\n",
        "        if is_tokenized:\n",
        "            tokenized_corpus = corpus\n",
        "        else:\n",
        "            tokenized_corpus = self.tokenize_corpus(corpus)\n",
        "        indicies_corpus = list()\n",
        "        for document in tqdm(tokenized_corpus):\n",
        "            indicies_document = torch.tensor(list(map(lambda word: self[word], document)),\n",
        "                                             dtype=torch.int64)\n",
        "            indicies_corpus.append(indicies_document)\n",
        "\n",
        "        return indicies_corpus\n",
        "\n",
        "    def tensor_to_corpus(self, tensor):\n",
        "        \"\"\" Convert list of indices tensor to a list of tokenized documents\n",
        "        @param indicies_corpus (list(tensor))\n",
        "        @return corpus (list(list(str)))\n",
        "        \"\"\"\n",
        "        corpus = list()\n",
        "        for indicies in tqdm(tensor):\n",
        "            document = list(map(lambda index: self.id2word[index.item()], indicies))\n",
        "            corpus.append(document)\n",
        "\n",
        "        return corpus\n",
        "\n",
        "    def add_words_from_corpus(self, corpus, is_tokenized=False):\n",
        "        print(\"Add words from the corpus...\")\n",
        "        if is_tokenized:\n",
        "            tokenized_corpus = corpus\n",
        "        else:\n",
        "            tokenized_corpus = self.tokenize_corpus(corpus)\n",
        "        word_freq = Counter(chain(*tokenized_corpus))\n",
        "        non_singletons = [w for w in word_freq if word_freq[w] > 1]\n",
        "        print(f\"Number of words in the corpus: {len(word_freq)}\")\n",
        "        print(f\"Number of words with frequency > 1: {len(non_singletons)}\")\n",
        "        for word in non_singletons:\n",
        "            self.add(word)"
      ]
    },
    {
      "cell_type": "code",
      "execution_count": 8,
      "metadata": {
        "id": "r4oM-dAhOuZb",
        "colab": {
          "base_uri": "https://localhost:8080/"
        },
        "outputId": "f4ec2dc7-dc67-42e9-acad-091bb3bf2974"
      },
      "outputs": [
        {
          "output_type": "stream",
          "name": "stdout",
          "text": [
            "Tokenize the corpus...\n"
          ]
        },
        {
          "output_type": "stream",
          "name": "stderr",
          "text": [
            "100%|██████████| 3/3 [00:00<00:00,  7.73it/s]\n"
          ]
        },
        {
          "output_type": "execute_result",
          "data": {
            "text/plain": [
              "[['Với',\n",
              "  'cộng_đồng',\n",
              "  'người',\n",
              "  'Bách_Việt',\n",
              "  'trước_đây',\n",
              "  ',',\n",
              "  'việc',\n",
              "  'thuần_hóa',\n",
              "  'mèo',\n",
              "  'cũng',\n",
              "  'có_thể',\n",
              "  'theo',\n",
              "  'cách_thức',\n",
              "  'như_vậy',\n",
              "  '.'],\n",
              " ['Tuy_nhiên',\n",
              "  ',',\n",
              "  'rất',\n",
              "  'khó',\n",
              "  'xác_định',\n",
              "  'được',\n",
              "  'thời_gian',\n",
              "  'cụ_thể',\n",
              "  'loài',\n",
              "  'mèo',\n",
              "  'được',\n",
              "  'thuần_hóa',\n",
              "  '.'],\n",
              " ['Chỉ',\n",
              "  'biết',\n",
              "  'rằng',\n",
              "  ',',\n",
              "  'từ',\n",
              "  'xa_xưa',\n",
              "  ',',\n",
              "  'mèo',\n",
              "  'đã',\n",
              "  'là',\n",
              "  'vật_nuôi',\n",
              "  'thân_quen',\n",
              "  'trong',\n",
              "  'hầu_hết',\n",
              "  'gia_đình',\n",
              "  'nông_dân',\n",
              "  'Việt_Nam',\n",
              "  '.']]"
            ]
          },
          "metadata": {},
          "execution_count": 8
        }
      ],
      "source": [
        "corpus_sample = [\"Với cộng đồng người Bách Việt trước đây, việc thuần hóa mèo cũng có thể theo cách thức như vậy.\",\n",
        "                 \"Tuy nhiên, rất khó xác định được thời gian cụ thể loài mèo được thuần hóa.\",\n",
        "                 \"Chỉ biết rằng, từ xa xưa, mèo đã là vật nuôi thân quen trong hầu hết gia đình nông dân Việt Nam.\"]\n",
        "\n",
        "Vocabulary.tokenize_corpus(corpus_sample)"
      ]
    },
    {
      "cell_type": "code",
      "execution_count": 9,
      "metadata": {
        "id": "AjQyzXf-mKt5",
        "colab": {
          "base_uri": "https://localhost:8080/",
          "height": 109
        },
        "outputId": "b8190efe-fc80-4db9-f659-d4959cfe7497"
      },
      "outputs": [
        {
          "output_type": "stream",
          "name": "stdout",
          "text": [
            "Tokenize the corpus...\n"
          ]
        },
        {
          "output_type": "stream",
          "name": "stderr",
          "text": [
            "100%|██████████| 3/3 [00:00<00:00, 420.30it/s]\n",
            "100%|██████████| 3/3 [00:00<00:00, 3359.03it/s]\n",
            "100%|██████████| 3/3 [00:00<00:00, 1959.96it/s]\n"
          ]
        },
        {
          "output_type": "execute_result",
          "data": {
            "text/plain": [
              "'Với cộng_đồng người Bách_Việt trước_đây , việc <unk> mèo cũng có_thể theo cách_thức như_vậy .'"
            ],
            "application/vnd.google.colaboratory.intrinsic+json": {
              "type": "string"
            }
          },
          "metadata": {},
          "execution_count": 9
        }
      ],
      "source": [
        "vocab = Vocabulary()\n",
        "\n",
        "# create vocabulary from pretrained word2vec\n",
        "words_list = list(word_embedding.stoi.keys())\n",
        "for word in words_list:\n",
        "    vocab.add(word)\n",
        "\n",
        "# test the vocabulary\n",
        "tensor = vocab.corpus_to_tensor(corpus_sample)\n",
        "corpus = vocab.tensor_to_corpus(tensor)\n",
        "\" \".join(corpus[0])\n",
        "# >> 'Với cộng_đồng người Bách Việt trước đây , việc <unk> mèo cũng có_thể theo cách_thức như_vậy .'"
      ]
    },
    {
      "cell_type": "markdown",
      "metadata": {
        "id": "JqryaYlKzrUC"
      },
      "source": [
        "# 4. IMDBDataset.py"
      ]
    },
    {
      "cell_type": "code",
      "execution_count": 10,
      "metadata": {
        "id": "uRlIfvhsXqKL"
      },
      "outputs": [],
      "source": [
        "from scipy.linalg import dft\n",
        "import pandas as pd\n",
        "import torch\n",
        "from torch.utils.data import Dataset\n",
        "\n",
        "class IMDBDataset(Dataset):\n",
        "    \"\"\" Load dataset from file csv\"\"\"\n",
        "\n",
        "    def __init__(self, vocab, csv_fpath=None, tokenized_fpath=None):\n",
        "        \"\"\"\n",
        "        @param vocab (Vocabulary)\n",
        "        @param csv_fpath (str)\n",
        "        @param tokenized_fpath (str)\n",
        "        \"\"\"\n",
        "        self.vocab = vocab\n",
        "        self.pad_idx = vocab[\"<pad>\"]\n",
        "        df = pd.read_csv(csv_fpath)\n",
        "\n",
        "        # Kiểm tra tên cột trong DataFrame\n",
        "        print(\"DataFrame columns:\", df.columns)\n",
        "\n",
        "        self.sentiments_list = list(df['sentiment'])\n",
        "        self.reviews_list = list(df['vi_review'])\n",
        "\n",
        "        sentiments_type = list(set(self.sentiments_list))\n",
        "        sentiments_type.sort()\n",
        "\n",
        "        self.sentiment2id = {sentiment: i for i, sentiment in enumerate(sentiments_type)}\n",
        "\n",
        "        if tokenized_fpath:\n",
        "            self.tokenized_reviews = torch.load(tokenized_fpath)\n",
        "        else:\n",
        "            self.tokenized_reviews = self.vocab.tokenize_corpus(self.reviews_list)\n",
        "\n",
        "        self.tensor_data = self.vocab.corpus_to_tensor(self.tokenized_reviews, is_tokenized=True)\n",
        "        self.tensor_label = torch.tensor([self.sentiment2id[sentiment] for sentiment in self.sentiments_list],\n",
        "                                         dtype=torch.float64)\n",
        "\n",
        "        print(\"Initialization complete\")\n",
        "\n",
        "    def __len__(self):\n",
        "        return len(self.tensor_data)\n",
        "\n",
        "    def __getitem__(self, idx):\n",
        "        return self.tensor_data[idx], self.tensor_label[idx]\n",
        "\n",
        "    def collate_fn(self, examples):\n",
        "        examples = sorted(examples, key=lambda e: len(e[0]), reverse=True)\n",
        "\n",
        "        reviews = [e[0] for e in examples]\n",
        "        reviews = torch.nn.utils.rnn.pad_sequence(reviews,\n",
        "                                                  batch_first=False,\n",
        "                                                  padding_value=self.pad_idx)\n",
        "        reviews_lengths = torch.tensor([len(e[0]) for e in examples])\n",
        "        sentiments = torch.tensor([e[1] for e in examples])\n",
        "\n",
        "        return {\"reviews\": (reviews, reviews_lengths), \"sentiments\": sentiments}"
      ]
    },
    {
      "cell_type": "code",
      "execution_count": 11,
      "metadata": {
        "id": "NqjArEORzqJP",
        "colab": {
          "base_uri": "https://localhost:8080/",
          "height": 109
        },
        "outputId": "3e89880f-1ba8-4f30-ab38-c6e7bd4f1fe4"
      },
      "outputs": [
        {
          "output_type": "stream",
          "name": "stderr",
          "text": [
            "Downloading...\n",
            "From: https://docs.google.com/uc?export=download&id=1ye1ncOmfgVqlc9wTlPnhILIeHSs-BfA5&confirm=t\n",
            "To: /content/tokenized.pt\n",
            "100%|██████████| 210M/210M [00:06<00:00, 31.3MB/s]\n"
          ]
        },
        {
          "output_type": "execute_result",
          "data": {
            "text/plain": [
              "'tokenized.pt'"
            ],
            "application/vnd.google.colaboratory.intrinsic+json": {
              "type": "string"
            }
          },
          "metadata": {},
          "execution_count": 11
        }
      ],
      "source": [
        "url = \"https://docs.google.com/uc?export=download&id=1ye1ncOmfgVqlc9wTlPnhILIeHSs-BfA5&confirm=t\"\n",
        "output = \"tokenized.pt\"\n",
        "gdown.download(url, output, quiet=False)"
      ]
    },
    {
      "cell_type": "code",
      "source": [
        "import pandas as pd\n",
        "\n",
        "# Đọc tệp CSV và hiển thị 5 dòng đầu tiên\n",
        "df = pd.read_csv('VI_IMDB.csv')\n",
        "print(\"DataFrame columns:\", df.columns)\n",
        "print(df.head())\n",
        "\n",
        "# Kiểm tra xem các cột sentiment và vi_review có tồn tại không\n",
        "if 'sentiment' in df.columns and 'vi_review' in df.columns:\n",
        "    print(\"Tệp CSV chứa các cột cần thiết.\")\n",
        "else:\n",
        "    print(\"Tệp CSV không chứa các cột cần thiết.\")"
      ],
      "metadata": {
        "id": "dHtuqJQ3Ve6i",
        "colab": {
          "base_uri": "https://localhost:8080/"
        },
        "outputId": "168d7c6a-e967-4be0-93e6-694cbd890ac6"
      },
      "execution_count": 12,
      "outputs": [
        {
          "output_type": "stream",
          "name": "stdout",
          "text": [
            "DataFrame columns: Index(['review', 'sentiment', 'vi_review'], dtype='object')\n",
            "                                              review sentiment  \\\n",
            "0  One of the other reviewers has mentioned that ...  positive   \n",
            "1  A wonderful little production. <br /><br />The...  positive   \n",
            "2  I thought this was a wonderful way to spend ti...  positive   \n",
            "3  Basically there's a family where a little boy ...  negative   \n",
            "4  Petter Mattei's \"Love in the Time of Money\" is...  positive   \n",
            "\n",
            "                                           vi_review  \n",
            "0  Một trong những người đánh giá khác đã đề cập ...  \n",
            "1  Một sản phẩm nhỏ tuyệt vời. <br /><br />Kỹ thu...  \n",
            "2  Tôi nghĩ đây là một cách tuyệt vời để dành thờ...  \n",
            "3  Về cơ bản, có một gia đình mà một cậu bé (Jake...  \n",
            "4  \"Love in the Time of Money\" của Petter Mattei ...  \n",
            "Tệp CSV chứa các cột cần thiết.\n"
          ]
        }
      ]
    },
    {
      "cell_type": "code",
      "source": [
        "import matplotlib.pyplot as plt\n",
        "import seaborn as sns\n",
        "\n",
        "# Vẽ phân phối của các nhãn cảm xúc\n",
        "sns.countplot(x='sentiment', data=df)\n",
        "plt.title('Phân phối các nhãn cảm xúc')\n",
        "plt.show()\n",
        "\n",
        "# Vẽ phân phối độ dài của các đánh giá\n",
        "df['length'] = df['vi_review'].apply(lambda x: len(x.split()))\n",
        "sns.histplot(df['length'], bins=50, kde=True)\n",
        "plt.title('Phân phối độ dài đánh giá')\n",
        "plt.show()\n"
      ],
      "metadata": {
        "id": "-lx292EaPex2",
        "colab": {
          "base_uri": "https://localhost:8080/",
          "height": 929
        },
        "outputId": "07b9de36-982d-4ebe-8b07-45de2852e76a"
      },
      "execution_count": 13,
      "outputs": [
        {
          "output_type": "display_data",
          "data": {
            "text/plain": [
              "<Figure size 640x480 with 1 Axes>"
            ],
            "image/png": "[encoded data removed]"
          },
          "metadata": {}
        },
        {
          "output_type": "display_data",
          "data": {
            "text/plain": [
              "<Figure size 640x480 with 1 Axes>"
            ],
            "image/png": "[encoded data removed]"
          },
          "metadata": {}
        }
      ]
    },
    {
      "cell_type": "code",
      "execution_count": 14,
      "metadata": {
        "id": "5BzdXxCpAeAX",
        "colab": {
          "base_uri": "https://localhost:8080/"
        },
        "outputId": "b150e390-df63-4f30-bb2d-2aa5640ff78d"
      },
      "outputs": [
        {
          "output_type": "stream",
          "name": "stdout",
          "text": [
            "DataFrame columns: Index(['review', 'sentiment', 'vi_review'], dtype='object')\n"
          ]
        },
        {
          "output_type": "stream",
          "name": "stderr",
          "text": [
            "100%|██████████| 50000/50000 [00:12<00:00, 4165.84it/s]"
          ]
        },
        {
          "output_type": "stream",
          "name": "stdout",
          "text": [
            "Initialization complete\n"
          ]
        },
        {
          "output_type": "stream",
          "name": "stderr",
          "text": [
            "\n"
          ]
        }
      ],
      "source": [
        "dataset = IMDBDataset(vocab, \"VI_IMDB.csv\", \"tokenized.pt\")\n",
        "# dataset = IMDBDataset(vocab, \"VI_IMDB.csv\")"
      ]
    },
    {
      "cell_type": "code",
      "execution_count": 15,
      "metadata": {
        "id": "4h1FtIow6AGa"
      },
      "outputs": [],
      "source": [
        "torch.save(dataset.tokenized_reviews, \"tokenized.pt\")"
      ]
    },
    {
      "cell_type": "markdown",
      "metadata": {
        "id": "LS2X1qbk_p3o"
      },
      "source": [
        "# 5. Split data"
      ]
    },
    {
      "cell_type": "code",
      "execution_count": 16,
      "metadata": {
        "id": "KFonmRJB3B-c",
        "colab": {
          "base_uri": "https://localhost:8080/"
        },
        "outputId": "33ba9917-db2a-4d54-da9b-684b5c51ba17"
      },
      "outputs": [
        {
          "output_type": "execute_result",
          "data": {
            "text/plain": [
              "(40000, 5000, 5000)"
            ]
          },
          "metadata": {},
          "execution_count": 16
        }
      ],
      "source": [
        "from torch.utils.data import random_split\n",
        "\n",
        "\n",
        "split_rate = 0.8\n",
        "full_size = len(dataset)\n",
        "train_size = (int)(split_rate * full_size)\n",
        "valid_size = (int)((full_size - train_size)/2)\n",
        "test_size = full_size - train_size - valid_size\n",
        "train_dataset, valid_dataset, test_dataset = random_split(dataset,\n",
        "                                                          lengths=[train_size, valid_size, test_size])\n",
        "\n",
        "len(train_dataset), len(valid_dataset), len(test_dataset)"
      ]
    },
    {
      "cell_type": "code",
      "source": [
        "from torch.utils.data import DataLoader\n",
        "\n",
        "\n",
        "BATCH_SIZE = 100\n",
        "train_dataloader = DataLoader(train_dataset,\n",
        "                              batch_size=BATCH_SIZE,\n",
        "                              shuffle=True,\n",
        "                              collate_fn=dataset.collate_fn)\n",
        "valid_dataloader = DataLoader(valid_dataset,\n",
        "                              batch_size=BATCH_SIZE,\n",
        "                              shuffle=True,\n",
        "                              collate_fn=dataset.collate_fn)\n",
        "test_dataloader = DataLoader(test_dataset,\n",
        "                              batch_size=BATCH_SIZE,\n",
        "                              shuffle=False,\n",
        "                              collate_fn=dataset.collate_fn)"
      ],
      "metadata": {
        "id": "RGVzmSwI7VkA"
      },
      "execution_count": 17,
      "outputs": []
    },
    {
      "cell_type": "markdown",
      "metadata": {
        "id": "IbrDDCwvA1QS"
      },
      "source": [
        "# 8. Recurrent Neural Network model"
      ]
    },
    {
      "cell_type": "code",
      "execution_count": 18,
      "metadata": {
        "id": "bKebhWVcY4ZT"
      },
      "outputs": [],
      "source": [
        "import torch.nn as nn\n",
        "\n",
        "\n",
        "class RNN(nn.Module):\n",
        "    def __init__(self, vocab_size, embedding_dim, hidden_dim, n_layers,\n",
        "                 bidirectional, dropout, pad_idx):\n",
        "        \"\"\"\n",
        "        @param vocab_size (int)\n",
        "        @param embedding_dim (int)\n",
        "        @param hidden_dim (int)\n",
        "        @param n_layers (int)\n",
        "        @param bidirectional (bool)\n",
        "        @param dropout (float)\n",
        "        @param pad_idx (int)\n",
        "        \"\"\"\n",
        "        super().__init__()\n",
        "\n",
        "        self.embedding = nn.Embedding(vocab_size, embedding_dim, padding_idx = pad_idx)\n",
        "\n",
        "        self.rnn = nn.LSTM(embedding_dim,\n",
        "                           hidden_dim,\n",
        "                           num_layers=n_layers,\n",
        "                           bidirectional=bidirectional,\n",
        "                           dropout=dropout)\n",
        "\n",
        "        self.fc = nn.Linear(hidden_dim * 2, 1)\n",
        "\n",
        "        self.dropout = nn.Dropout(dropout)\n",
        "\n",
        "    def forward(self, text, text_lengths):\n",
        "        \"\"\"\n",
        "        @param text (torch.Tensor): shape = [sent len, batch size]\n",
        "        @param text_lengths (torch.Tensor): shape = [batch size]\n",
        "        @return\n",
        "        \"\"\"\n",
        "        #text = [sent len, batch size]\n",
        "        embedded = self.dropout(self.embedding(text))\n",
        "\n",
        "        #embedded = [sent len, batch size, emb dim]\n",
        "\n",
        "        #pack sequence\n",
        "        # lengths need to be on CPU!\n",
        "        packed_embedded = nn.utils.rnn.pack_padded_sequence(embedded, text_lengths.to('cpu'))\n",
        "\n",
        "        packed_output, (hidden, cell) = self.rnn(packed_embedded)\n",
        "\n",
        "        #unpack sequence\n",
        "        output, output_lengths = nn.utils.rnn.pad_packed_sequence(packed_output)\n",
        "\n",
        "        #output = [sent len, batch size, hid dim * num directions]\n",
        "        #output over padding tokens are zero tensors\n",
        "\n",
        "        #hidden = [num layers * num directions, batch size, hid dim]\n",
        "        #cell = [num layers * num directions, batch size, hid dim]\n",
        "\n",
        "        #concat the final forward (hidden[-2,:,:]) and backward (hidden[-1,:,:]) hidden layers\n",
        "        #and apply dropout\n",
        "\n",
        "        hidden = self.dropout(torch.cat((hidden[-2,:,:], hidden[-1,:,:]), dim = 1))\n",
        "\n",
        "        #hidden = [batch size, hid dim * num directions]\n",
        "\n",
        "        return self.fc(hidden)"
      ]
    },
    {
      "cell_type": "code",
      "execution_count": 19,
      "metadata": {
        "id": "R1ZA25vwwLVx"
      },
      "outputs": [],
      "source": [
        "INPUT_DIM = word_embedding.vectors.shape[0]\n",
        "EMBEDDING_DIM = 100\n",
        "BATCH_SIZE = 100\n",
        "HIDDEN_DIM = 256\n",
        "N_LAYERS = 2\n",
        "BIDIRECTIONAL = True\n",
        "DROPOUT = 0.5\n",
        "PAD_IDX = vocab[\"<pad>\"]\n",
        "UNK_IDX = vocab[\"<unk>\"]\n",
        "\n",
        "model = RNN(INPUT_DIM,\n",
        "            EMBEDDING_DIM,\n",
        "            HIDDEN_DIM,\n",
        "            N_LAYERS,\n",
        "            BIDIRECTIONAL,\n",
        "            DROPOUT,\n",
        "            PAD_IDX)"
      ]
    },
    {
      "cell_type": "code",
      "execution_count": 20,
      "metadata": {
        "id": "4fySH4Ci294V"
      },
      "outputs": [],
      "source": [
        "model.embedding.weight.data.copy_(word_embedding.vectors)\n",
        "model.embedding.weight.data[UNK_IDX] = torch.zeros(EMBEDDING_DIM)\n",
        "model.embedding.weight.data[PAD_IDX] = torch.zeros(EMBEDDING_DIM)"
      ]
    },
    {
      "cell_type": "code",
      "execution_count": 21,
      "metadata": {
        "id": "5mtMFIZUxMs1",
        "colab": {
          "base_uri": "https://localhost:8080/"
        },
        "outputId": "aa8fc25d-cc71-4597-cee2-73451ded1e1c"
      },
      "outputs": [
        {
          "output_type": "stream",
          "name": "stdout",
          "text": [
            "The model has 161,061,357 trainable parameters\n"
          ]
        }
      ],
      "source": [
        "def count_parameters(model):\n",
        "    return sum(p.numel() for p in model.parameters() if p.requires_grad)\n",
        "\n",
        "print(f'The model has {count_parameters(model):,} trainable parameters')"
      ]
    },
    {
      "cell_type": "markdown",
      "metadata": {
        "id": "X2W8eI0y99PO"
      },
      "source": [
        "# 9. Train the model"
      ]
    },
    {
      "cell_type": "code",
      "execution_count": 22,
      "metadata": {
        "id": "QY0P8iXT_kic"
      },
      "outputs": [],
      "source": [
        "import torch.optim as optim\n",
        "\n",
        "device = torch.device('cuda' if torch.cuda.is_available() else 'cpu')\n",
        "\n",
        "optimizer = optim.Adam(model.parameters())\n",
        "criterion = nn.BCEWithLogitsLoss().to(device)\n",
        "\n",
        "model = model.to(device)"
      ]
    },
    {
      "cell_type": "code",
      "execution_count": 23,
      "metadata": {
        "id": "IZRefC7b_xz7"
      },
      "outputs": [],
      "source": [
        "def binary_accuracy(preds, y):\n",
        "    \"\"\"\n",
        "    Returns accuracy per batch, i.e. if you get 8/10 right, this returns 0.8, NOT 8\n",
        "    @param preds (torch.Tensor): shape = [batch_size]\n",
        "    @param y (torch.Tensor): shape = [batch_size]\n",
        "    @return acc (torch.Tensor): shape = [1]\n",
        "    \"\"\"\n",
        "    #round predictions to the closest integer\n",
        "    rounded_preds = torch.round(torch.sigmoid(preds))\n",
        "    correct = (rounded_preds == y).float() #convert into float for division\n",
        "    acc = correct.sum() / len(correct)\n",
        "    return acc"
      ]
    },
    {
      "cell_type": "code",
      "execution_count": 24,
      "metadata": {
        "id": "rW_HPt7s_2J6"
      },
      "outputs": [],
      "source": [
        "def train(model, dataloader, optimizer, criterion, device):\n",
        "    \"\"\"\n",
        "    @param model (RNN)\n",
        "    @param dataloader (DataLoader)\n",
        "    @param optimizer (torch.optim)\n",
        "    @param criterion (torch.nn.modules.loss)\n",
        "    @param device (torch.device)\n",
        "    @return epoch_loss (float): model's loss of this epoch\n",
        "    @return epoch_acc (float): model's accuracy of this epoch\n",
        "    \"\"\"\n",
        "    epoch_loss = 0\n",
        "    epoch_acc = 0\n",
        "\n",
        "    model.train()\n",
        "\n",
        "    for batch in dataloader:\n",
        "\n",
        "        optimizer.zero_grad()\n",
        "        reviews, reviews_lengths = batch[\"reviews\"]\n",
        "        reviews = reviews.to(device)\n",
        "        predictions = model(reviews, reviews_lengths).squeeze(1)\n",
        "        sentiments = batch[\"sentiments\"].to(device)\n",
        "        loss = criterion(predictions, sentiments)\n",
        "        acc = binary_accuracy(predictions, sentiments)\n",
        "\n",
        "        loss.backward()\n",
        "        optimizer.step()\n",
        "\n",
        "        epoch_loss += loss.item()\n",
        "        epoch_acc += acc.item()\n",
        "\n",
        "    batch_num = len(dataloader)\n",
        "    return epoch_loss / batch_num, epoch_acc / batch_num"
      ]
    },
    {
      "cell_type": "code",
      "execution_count": 25,
      "metadata": {
        "id": "9TViPLND_4WS"
      },
      "outputs": [],
      "source": [
        "def evaluate(model, dataloader, criterion, device):\n",
        "    \"\"\"\n",
        "    @param model (RNN)\n",
        "    @param dataloader (DataLoader)\n",
        "    @param criterion (torch.nn.modules.loss)\n",
        "    @param device (torch.device)\n",
        "    @return epoch_loss (float): model's loss of this epoch\n",
        "    @return epoch_acc (float): model's accuracy of this epoch\n",
        "    \"\"\"\n",
        "    epoch_loss = 0\n",
        "    epoch_acc = 0\n",
        "\n",
        "    model.eval()\n",
        "\n",
        "    with torch.no_grad():\n",
        "        for batch in dataloader:\n",
        "\n",
        "            reviews, reviews_lengths = batch[\"reviews\"]\n",
        "            reviews = reviews.to(device)\n",
        "            predictions = model(reviews, reviews_lengths).squeeze(1)\n",
        "\n",
        "            sentiments = batch[\"sentiments\"].to(device)\n",
        "            loss = criterion(predictions, sentiments)\n",
        "            acc = binary_accuracy(predictions, sentiments)\n",
        "\n",
        "            epoch_loss += loss.item()\n",
        "            epoch_acc += acc.item()\n",
        "\n",
        "    batch_num = len(dataloader)\n",
        "    return epoch_loss / batch_num, epoch_acc / batch_num"
      ]
    },
    {
      "cell_type": "code",
      "execution_count": 26,
      "metadata": {
        "id": "ns4tZi3gPqwE"
      },
      "outputs": [],
      "source": [
        "import time\n",
        "\n",
        "def epoch_time(start_time, end_time):\n",
        "    elapsed_time = end_time - start_time\n",
        "    elapsed_mins = int(elapsed_time / 60)\n",
        "    elapsed_secs = int(elapsed_time - (elapsed_mins * 60))\n",
        "    return elapsed_mins, elapsed_secs"
      ]
    },
    {
      "cell_type": "code",
      "execution_count": 27,
      "metadata": {
        "id": "cfy1qorGIZhr",
        "colab": {
          "base_uri": "https://localhost:8080/"
        },
        "outputId": "cb55bc6b-268b-4194-bcb0-b90a93b57b46"
      },
      "outputs": [
        {
          "output_type": "stream",
          "name": "stdout",
          "text": [
            "Epoch: 01 | Epoch Time: 2m 1s\n",
            "\tTrain Loss: 0.614 | Train Acc: 63.99%\n",
            "\t Val. Loss: 0.389 |  Val. Acc: 83.10%\n",
            "Epoch: 02 | Epoch Time: 2m 2s\n",
            "\tTrain Loss: 0.373 | Train Acc: 84.05%\n",
            "\t Val. Loss: 0.300 |  Val. Acc: 88.00%\n",
            "Epoch: 03 | Epoch Time: 2m 1s\n",
            "\tTrain Loss: 0.321 | Train Acc: 86.83%\n",
            "\t Val. Loss: 0.292 |  Val. Acc: 88.06%\n",
            "Epoch: 04 | Epoch Time: 2m 1s\n",
            "\tTrain Loss: 0.250 | Train Acc: 90.27%\n",
            "\t Val. Loss: 0.291 |  Val. Acc: 89.02%\n",
            "Epoch: 05 | Epoch Time: 2m 2s\n",
            "\tTrain Loss: 0.194 | Train Acc: 92.80%\n",
            "\t Val. Loss: 0.276 |  Val. Acc: 89.72%\n"
          ]
        }
      ],
      "source": [
        "N_EPOCHS = 5\n",
        "\n",
        "best_valid_loss = float(\"inf\")\n",
        "\n",
        "for epoch in range(N_EPOCHS):\n",
        "\n",
        "    start_time = time.time()\n",
        "\n",
        "    train_loss, train_acc = train(model, train_dataloader, optimizer, criterion, device)\n",
        "    valid_loss, valid_acc = evaluate(model, valid_dataloader, criterion, device)\n",
        "\n",
        "    end_time = time.time()\n",
        "\n",
        "    epoch_mins, epoch_secs = epoch_time(start_time, end_time)\n",
        "\n",
        "    if valid_loss < best_valid_loss:\n",
        "        best_valid_loss = valid_loss\n",
        "        torch.save(model.state_dict(), \"model.pt\")\n",
        "\n",
        "    print(f\"Epoch: {epoch+1:02} | Epoch Time: {epoch_mins}m {epoch_secs}s\")\n",
        "    print(f\"\\tTrain Loss: {train_loss:.3f} | Train Acc: {train_acc*100:.2f}%\")\n",
        "    print(f\"\\t Val. Loss: {valid_loss:.3f} |  Val. Acc: {valid_acc*100:.2f}%\")"
      ]
    },
    {
      "cell_type": "markdown",
      "metadata": {
        "id": "LUyVw6Yw7eru"
      },
      "source": [
        "# 9. Test the model"
      ]
    },
    {
      "cell_type": "code",
      "execution_count": 28,
      "metadata": {
        "id": "tLKczw3Z8XZ0",
        "colab": {
          "base_uri": "https://localhost:8080/"
        },
        "outputId": "f322f2a4-5ba9-4e02-cad5-a0cc83b6ab1d"
      },
      "outputs": [
        {
          "output_type": "stream",
          "name": "stdout",
          "text": [
            "Test Loss: 0.282 | Test Acc: 89.14%\n"
          ]
        }
      ],
      "source": [
        "test_loss, test_acc = evaluate(model, test_dataloader, criterion, device)\n",
        "\n",
        "print(f'Test Loss: {test_loss:.3f} | Test Acc: {test_acc*100:.2f}%')"
      ]
    },
    {
      "cell_type": "code",
      "execution_count": 29,
      "metadata": {
        "id": "bQTUTTo28sGD"
      },
      "outputs": [],
      "source": [
        "def predict_sentiment(model, sentence, vocab, device):\n",
        "    model.eval()\n",
        "    corpus = [sentence]\n",
        "    tensor = vocab.corpus_to_tensor(corpus)[0].to(device)\n",
        "    tensor = tensor.unsqueeze(1)\n",
        "    length = [len(tensor)]\n",
        "    length_tensor = torch.LongTensor(length)\n",
        "    prediction = torch.sigmoid(model(tensor, length_tensor))\n",
        "    return prediction.item()"
      ]
    },
    {
      "cell_type": "code",
      "execution_count": 30,
      "metadata": {
        "id": "lKxSmMbO929G",
        "colab": {
          "base_uri": "https://localhost:8080/"
        },
        "outputId": "40e32fff-72b9-4898-95b9-40b4ac4bc0e6"
      },
      "outputs": [
        {
          "output_type": "execute_result",
          "data": {
            "text/plain": [
              "{'negative': 0, 'positive': 1}"
            ]
          },
          "metadata": {},
          "execution_count": 30
        }
      ],
      "source": [
        "dataset.sentiment2id"
      ]
    },
    {
      "cell_type": "code",
      "execution_count": 31,
      "metadata": {
        "id": "910L0SwL9wtB",
        "colab": {
          "base_uri": "https://localhost:8080/"
        },
        "outputId": "b6f32912-4b57-4d19-e2d9-ac779a45fb30"
      },
      "outputs": [
        {
          "output_type": "stream",
          "name": "stdout",
          "text": [
            "Tokenize the corpus...\n"
          ]
        },
        {
          "output_type": "stream",
          "name": "stderr",
          "text": [
            "100%|██████████| 1/1 [00:00<00:00, 195.59it/s]\n",
            "100%|██████████| 1/1 [00:00<00:00, 5159.05it/s]\n"
          ]
        },
        {
          "output_type": "execute_result",
          "data": {
            "text/plain": [
              "0.0031742695719003677"
            ]
          },
          "metadata": {},
          "execution_count": 31
        }
      ],
      "source": [
        "sentence = \"Bộ phim này rất dở! Nội dung cực kì nhàm chán\"\n",
        "\n",
        "predict_sentiment(model, sentence, vocab, device)"
      ]
    },
    {
      "cell_type": "code",
      "execution_count": 32,
      "metadata": {
        "id": "DP8-kF-KAJYx",
        "colab": {
          "base_uri": "https://localhost:8080/"
        },
        "outputId": "fb4cf65a-0c84-41a1-b71b-fea6184e99a6"
      },
      "outputs": [
        {
          "output_type": "stream",
          "name": "stdout",
          "text": [
            "Tokenize the corpus...\n"
          ]
        },
        {
          "output_type": "stream",
          "name": "stderr",
          "text": [
            "100%|██████████| 1/1 [00:00<00:00, 408.96it/s]\n",
            "100%|██████████| 1/1 [00:00<00:00, 6403.52it/s]\n"
          ]
        },
        {
          "output_type": "execute_result",
          "data": {
            "text/plain": [
              "0.9970697164535522"
            ]
          },
          "metadata": {},
          "execution_count": 32
        }
      ],
      "source": [
        "sentence = \"Bộ phim này rất hay! Nhiều tình tiết rất kịch tính.\"\n",
        "\n",
        "predict_sentiment(model, sentence, vocab, device)"
      ]
    }
  ],
  "metadata": {
    "accelerator": "GPU",
    "colab": {
      "provenance": [],
      "gpuType": "T4"
    },
    "kernelspec": {
      "display_name": "Python 3",
      "name": "python3"
    },
    "language_info": {
      "name": "python"
    }
  },
  "nbformat": 4,
  "nbformat_minor": 0
}